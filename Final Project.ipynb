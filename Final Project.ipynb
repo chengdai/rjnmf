{
 "cells": [
  {
   "cell_type": "markdown",
   "metadata": {},
   "source": [
    "## How does the approximation of WH ~ X perform as we increase the rank k?"
   ]
  },
  {
   "cell_type": "code",
   "execution_count": 4,
   "metadata": {
    "scrolled": true
   },
   "outputs": [],
   "source": [
    "from ristretto import nmf\n",
    "import numpy\n",
    "import matplotlib.pyplot as plt\n",
    "import pandas\n",
    "\n",
    "def nmf_approximation_error(matrix, k, method = 'nmf_fhals'):\n",
    "    if method == 'nmf_fhals':\n",
    "        W,H = nmf.nmf_fhals(matrix, k)\n",
    "        return numpy.linalg.norm(matrix - W.dot(H))\n",
    "    elif method == 'rnmf_fhals':\n",
    "        W,H = nmf.rnmf_fhals(matrix, k)\n",
    "        return numpy.linalg.norm(matrix - W.dot(H))\n",
    "    else:\n",
    "        return None\n",
    "\n",
    "\n",
    "nmf_error_tracker = {}\n",
    "rnmf_error_tracker = {}\n",
    "X = numpy.random.rand(1000,1000)\n",
    "for k in range(200, 500, 50):\n",
    "    nmf_error = []\n",
    "    for trial in xrange(3):\n",
    "        nmf_error.append(nmf_approximation_error(X, k, method = 'nmf_fhals'))\n",
    "    nmf_error_tracker[k] = numpy.mean(nmf_error)\n",
    "\n",
    "    rnmf_error = []\n",
    "    for trial in xrange(3):\n",
    "        rnmf_error.append(nmf_approximation_error(X, k, method = 'nmf_fhals'))\n",
    "    rnmf_error_tracker[k] = numpy.mean(rnmf_error)"
   ]
  },
  {
   "cell_type": "code",
   "execution_count": 5,
   "metadata": {},
   "outputs": [
    {
     "name": "stderr",
     "output_type": "stream",
     "text": [
      "/usr/local/lib/python2.7/dist-packages/matplotlib/pyplot.py:3161: RuntimeWarning: Second argument is ambiguous: could be a color spec but is in data. Using as data.\n",
      "Either rename the entry in data or use three arguments to plot.\n",
      "  ret = ax.plot(*args, **kwargs)\n"
     ]
    },
    {
     "data": {
      "image/png": "[encoded data removed]",
      "text/plain": [
       "<matplotlib.figure.Figure at 0x7f3e6ffabe50>"
      ]
     },
     "metadata": {},
     "output_type": "display_data"
    }
   ],
   "source": [
    "nmf_df = pandas.DataFrame([nmf_error_tracker.keys(), nmf_error_tracker.values()]).T.sort_values(0)\n",
    "nmf_df.columns = ['x','y']\n",
    "rnmf_df = pandas.DataFrame([rnmf_error_tracker.keys(), rnmf_error_tracker.values()]).T.sort_values(0)\n",
    "rnmf_df.columns = ['x','y']\n",
    "plt.plot('x', 'y', data = nmf_df, linestyle='-', marker='o', markersize = 1, label='NMF')\n",
    "plt.plot('x', 'y', data = rnmf_df, linestyle='-', marker='d', markersize = 1, label='Randomized NMF')\n",
    "plt.legend()\n",
    "plt.show()\n",
    "plt.close()"
   ]
  },
  {
   "cell_type": "markdown",
   "metadata": {},
   "source": [
    "## NMF Code"
   ]
  },
  {
   "cell_type": "code",
   "execution_count": 57,
   "metadata": {},
   "outputs": [],
   "source": [
    "from __future__ import division\n",
    "\n",
    "import numpy as np\n",
    "import scipy as sci\n",
    "from scipy import linalg\n",
    "\n",
    "from _fhals_update import _fhals_update\n",
    "from _rfhals_update import _rfhals_update\n",
    "\n",
    "epsi = np.finfo(np.float32).eps\n",
    "\n",
    "def snmf_fhals(A, k, init='normal', tol=1e-4, maxiter=100, verbose=False):\n",
    "    \"\"\"\n",
    "    Nonnegative Matrix Factorization.\n",
    "    \n",
    "    Hierarchical alternating least squares algorithm\n",
    "    for computing the approximate low-rank nonnegative matrix factorization of \n",
    "    a square `(m, m)` matrix `A`. Given the target rank `k << m`, \n",
    "    the input matrix `A` is factored as `A = W Wt`. The nonnegative factor \n",
    "    matrices `W` and `Wt` are of dimension `(m, k)` and `(k, m)`, respectively.\n",
    "           \n",
    "    \n",
    "    Parameters\n",
    "    ----------\n",
    "    A : array_like, shape `(m, m)`.\n",
    "        Real nonnegative input matrix.\n",
    "    \n",
    "    k : integer, `k << m`.\n",
    "        Target rank.\n",
    "    \n",
    "    init : str `{'normal'}`. \n",
    "        'normal' : Factor matrices are initialized with nonnegative \n",
    "                   Gaussian random numbers.\n",
    "            \n",
    "    tol : float, default: `tol=1e-4`.\n",
    "        Tolerance of the stopping condition.\n",
    "        \n",
    "    maxiter : integer, default: `maxiter=100`.\n",
    "        Number of iterations.   \n",
    "        \n",
    "    verbose : boolean, default: `verbose=False`.\n",
    "        The verbosity level.        \n",
    "    \n",
    "    \n",
    "    Returns\n",
    "    -------\n",
    "    W:  array_like, `(m, k)`.\n",
    "        Solution to the non-negative least squares problem.\n",
    "    \"\"\"    \n",
    "    \n",
    "    #~~~~~~~~~~~~~~~~~~~~~~~~~~~~~~~~~~~~~~~~~~~~~~~~~~~~~~~~~~~~~~~~~~~~~~~~~~\n",
    "    # Error catching\n",
    "    #~~~~~~~~~~~~~~~~~~~~~~~~~~~~~~~~~~~~~~~~~~~~~~~~~~~~~~~~~~~~~~~~~~~~~~~~~~     \n",
    "    m, n = A.shape  \n",
    "\n",
    "    assert m == n\n",
    "    \n",
    "    if (A < 0).any():\n",
    "        raise ValueError(\"Input matrix with nonnegative elements is required.\")    \n",
    "    \n",
    "    if  A.dtype == sci.float32: \n",
    "        data_type = sci.float32\n",
    "        \n",
    "    elif A.dtype == sci.float64: \n",
    "        data_type = sci.float64  \n",
    "\n",
    "    else:\n",
    "        raise ValueError(\"A.dtype is not supported.\")    \n",
    "    \n",
    "\n",
    "    #~~~~~~~~~~~~~~~~~~~~~~~~~~~~~~~~~~~~~~~~~~~~~~~~~~~~~~~~~~~~~~~~~~~~~~~~~~                            \n",
    "    # Initialization methods for factor matrices W and H\n",
    "    # 'normal': nonnegative standard normal random init\n",
    "    #~~~~~~~~~~~~~~~~~~~~~~~~~~~~~~~~~~~~~~~~~~~~~~~~~~~~~~~~~~~~~~~~~~~~~~~~~~ \n",
    "    \n",
    "    if init == 'normal':\n",
    "        m, n = A.shape\n",
    "        assert m == n\n",
    "        W = sci.maximum(0.0, sci.random.standard_normal((m, k)))\n",
    "        Ht = W.copy()\n",
    "    else:\n",
    "        raise ValueError('Initialization method is not supported.')\n",
    "    #End if\n",
    "\n",
    "    #~~~~~~~~~~~~~~~~~~~~~~~~~~~~~~~~~~~~~~~~~~~~~~~~~~~~~~~~~~~~~~~~~~~~~~~~~~\n",
    "    # Iterate the HALS algorithm until convergence or maxiter is reached\n",
    "    # i)   Update factor matrix H and normalize columns   \n",
    "    # ii)  Update low-dimensional factor matrix W\n",
    "    # iii) Compute fit log( ||A-WH|| )\n",
    "    #   -> break if fit <-5 or fit_change < tol\n",
    "    #~~~~~~~~~~~~~~~~~~~~~~~~~~~~~~~~~~~~~~~~~~~~~~~~~~~~~~~~~~~~~~~~~~~~~~~~~    \n",
    "    \n",
    "    for niter in range(maxiter): \n",
    "        violation = 0.0\n",
    "\n",
    "        # Update factor matrix H\n",
    "        WtW = W.T.dot(W)\n",
    "        AtW = A.T.dot(W)\n",
    "\n",
    "        #violation += _fhals_update(Ht, WtW, AtW)\n",
    "        violation += _fhals_update(W, WtW, AtW)\n",
    "        #print violation\n",
    "        #Ht /= sci.maximum(epsi, sci.linalg.norm(Ht, axis=0))\n",
    "        W /= sci.maximum(epsi, sci.linalg.norm(W, axis=0))\n",
    "        # Update factor matrix W\n",
    "        #HHt = Ht.T.dot(Ht)\n",
    "        #AHt = A.dot(Ht) # Rotate AHt back to high-dimensional space\n",
    "\n",
    "        #violation += _fhals_update(W, HHt, AHt)\n",
    "\n",
    "        # Compute stopping condition.\n",
    "        if niter == 0:\n",
    "            violation_init = violation\n",
    "\n",
    "        if violation_init == 0:\n",
    "            break       \n",
    "\n",
    "        fitchange = violation / violation_init\n",
    "        \n",
    "        if verbose == True:\n",
    "            print('Iteration: %s fit: %s, fitchange: %s' %(niter, violation, fitchange))        \n",
    "\n",
    "        if fitchange <= tol:\n",
    "            break\n",
    "\n",
    "    #End for\n",
    "\n",
    "    #~~~~~~~~~~~~~~~~~~~~~~~~~~~~~~~~~~~~~~~~~~~~~~~~~~~~~~~~~~~~~~~~~~~~~~~~~~                            \n",
    "    # Return factor matrices\n",
    "    #~~~~~~~~~~~~~~~~~~~~~~~~~~~~~~~~~~~~~~~~~~~~~~~~~~~~~~~~~~~~~~~~~~~~~~~~~~ \n",
    "    if verbose == True:\n",
    "        print('Final Iteration: %s fit: %s' %(niter, violation)) \n",
    "        \n",
    "    #return( W, Ht.T )\n",
    "    return(W,W.T)\n"
   ]
  },
  {
   "cell_type": "code",
   "execution_count": 112,
   "metadata": {
    "scrolled": true
   },
   "outputs": [
    {
     "name": "stdout",
     "output_type": "stream",
     "text": [
      "54.8391511137\n"
     ]
    }
   ],
   "source": [
    "import numpy\n",
    "import nmf\n",
    "\n",
    "X = numpy.random.rand(100,100)\n",
    "X_sym = (X + X.T)/2\n",
    "W, H = snmf_fhals(X_sym, 100)\n",
    "assert (W == H.T).all()\n",
    "print numpy.linalg.norm(W.dot(H) - X)"
   ]
  },
  {
   "cell_type": "code",
   "execution_count": 113,
   "metadata": {},
   "outputs": [
    {
     "name": "stdout",
     "output_type": "stream",
     "text": [
      "False\n",
      "20.9915665065\n"
     ]
    }
   ],
   "source": [
    "B,C = nmf.nmf_fhals(X_sym,100)\n",
    "print (B == C.T).all()\n",
    "print numpy.linalg.norm(B.dot(C) - X)"
   ]
  },
  {
   "cell_type": "code",
   "execution_count": 114,
   "metadata": {},
   "outputs": [],
   "source": [
    "from sklearn.decomposition import NMF\n",
    "\n",
    "model = NMF(n_components=100, init='random', random_state=0)\n",
    "W = model.fit_transform(X_sym)\n",
    "H = model.components_"
   ]
  },
  {
   "cell_type": "code",
   "execution_count": 115,
   "metadata": {},
   "outputs": [
    {
     "data": {
      "text/plain": [
       "20.643145964929008"
      ]
     },
     "execution_count": 115,
     "metadata": {},
     "output_type": "execute_result"
    }
   ],
   "source": [
    "numpy.linalg.norm(W.dot(H) - X)"
   ]
  },
  {
   "cell_type": "code",
   "execution_count": null,
   "metadata": {},
   "outputs": [],
   "source": []
  }
 ],
 "metadata": {
  "kernelspec": {
   "display_name": "Python 2",
   "language": "python",
   "name": "python2"
  },
  "language_info": {
   "codemirror_mode": {
    "name": "ipython",
    "version": 2
   },
   "file_extension": ".py",
   "mimetype": "text/x-python",
   "name": "python",
   "nbconvert_exporter": "python",
   "pygments_lexer": "ipython2",
   "version": "2.7.6"
  }
 },
 "nbformat": 4,
 "nbformat_minor": 2
}
